{
 "cells": [
  {
   "cell_type": "code",
   "execution_count": 1,
   "metadata": {},
   "outputs": [],
   "source": [
    "import re\n",
    "from itertools import chain\n",
    "import copy\n",
    "\n",
    "fileName = 'drugs.txt'"
   ]
  },
  {
   "cell_type": "code",
   "execution_count": 2,
   "metadata": {},
   "outputs": [],
   "source": [
    "data = []\n",
    "code = []\n",
    "data_splited = []\n",
    "code_splited = []"
   ]
  },
  {
   "cell_type": "code",
   "execution_count": 3,
   "metadata": {},
   "outputs": [],
   "source": [
    "#获取总结的两行数据分别存入data和code\n",
    "with open(fileName) as f:\n",
    "    line = f.readline()\n",
    "    while line:\n",
    "        if re.search(\"^[a-z_\\-].*0\\.[0-9]*$\", line):\n",
    "            data.append(line)\n",
    "        if re.search(\"(C[0-9]+\\s[A-Z_\\-]+\\s){3,}\", line):\n",
    "            code.append(line)\n",
    "        line = f.readline()"
   ]
  },
  {
   "cell_type": "code",
   "execution_count": 4,
   "metadata": {},
   "outputs": [],
   "source": [
    "#分割\n",
    "for i in range(len(data)):\n",
    "    data_splited.append(data[i].split())\n",
    "    code_splited.append(code[i].split())\n"
   ]
  },
  {
   "cell_type": "code",
   "execution_count": 5,
   "metadata": {},
   "outputs": [],
   "source": [
    "#提取相同药物，到MAP的同一列表中\n",
    "MAP = []\n",
    "drug = ''\n",
    "n = -1\n",
    "row = []\n",
    "rows = -1\n",
    "for i in data_splited:\n",
    "    if drug != i[0]:\n",
    "        drug = i[0]\n",
    "        MAP.append([])\n",
    "        n = n + 1\n",
    "        row.append(0)\n",
    "        rows = rows + 1\n",
    "    MAP[n].append(i)\n",
    "    row[rows] = row[rows] + 1\n",
    "\n",
    "#保存完整数据格式，提取link时用\n",
    "complete_data = copy.deepcopy(MAP)"
   ]
  },
  {
   "cell_type": "code",
   "execution_count": 6,
   "metadata": {},
   "outputs": [
    {
     "name": "stdout",
     "output_type": "stream",
     "text": [
      "[[['oleuropein', 'cleavage', 'prl', 'angiogenesis', 'inflammatory_disease'], ['oleuropein', 'oxidative_stress', 'lipoxygenase', 'angiogenesis', 'inflammatory_disease'], ['oleuropein', 'glucose', 'gipr', 'receptor', 'inflammatory_disease'], ['oleuropein', 'osteocalcin', 'vitamin_d_receptor', 'rheumatoid_arthriti', 'inflammatory_disease']], [['quetiapine', 'prefrontal_cortex', 'extracellular_signal-regulated_kinase_2', 'gene', 'schizophrenia']]]\n",
      "[4, 1]\n"
     ]
    }
   ],
   "source": [
    "#获取每个图中结点\n",
    "MAP_NO_REPEAT = MAP\n",
    "\n",
    "#删除大写动词和概率\n",
    "for maps in MAP_NO_REPEAT:\n",
    "    for cols in maps:\n",
    "        for words in cols:\n",
    "            if re.search('^[A-Z\\-_]*$',words):\n",
    "                cols.remove(words)\n",
    "            if re.search('^0.[0-9].*$',words):\n",
    "                cols.remove(words)\n",
    "            \n",
    "saved_data = copy.deepcopy(data_splited)\n",
    "saved_code = copy.deepcopy(code_splited)\n",
    "\n",
    "print(MAP)\n",
    "print(row)"
   ]
  },
  {
   "cell_type": "code",
   "execution_count": 7,
   "metadata": {},
   "outputs": [
    {
     "name": "stdout",
     "output_type": "stream",
     "text": [
      "['oleuropein', 'quetiapine']\n",
      "['inflammatory_disease', 'schizophrenia']\n",
      "[[['cleavage', 'prl', 'angiogenesis'], ['oxidative_stress', 'lipoxygenase', 'angiogenesis'], ['glucose', 'gipr', 'receptor'], ['osteocalcin', 'vitamin_d_receptor', 'rheumatoid_arthriti']], [['prefrontal_cortex', 'extracellular_signal-regulated_kinase_2', 'gene']]]\n"
     ]
    }
   ],
   "source": [
    "#提取data中的首尾节点\n",
    "\n",
    "drugs = []\n",
    "diseases = []\n",
    "for maps in MAP:\n",
    "    drugs.append(maps[0][0])\n",
    "    diseases.append(maps[0][-1])\n",
    "    for lines in maps:\n",
    "        lines.remove(lines[0])\n",
    "        lines.remove(lines[-1])\n",
    "print(drugs)\n",
    "print(diseases)\n",
    "print(MAP)"
   ]
  },
  {
   "cell_type": "code",
   "execution_count": 17,
   "metadata": {},
   "outputs": [
    {
     "ename": "IndexError",
     "evalue": "list index out of range",
     "output_type": "error",
     "traceback": [
      "\u001b[1;31m---------------------------------------------------------------------------\u001b[0m",
      "\u001b[1;31mIndexError\u001b[0m                                Traceback (most recent call last)",
      "\u001b[1;32m<ipython-input-17-dde809d2dd23>\u001b[0m in \u001b[0;36m<module>\u001b[1;34m\u001b[0m\n\u001b[0;32m      3\u001b[0m \u001b[0mdisease_num\u001b[0m \u001b[1;33m=\u001b[0m \u001b[1;33m-\u001b[0m\u001b[1;36m1\u001b[0m\u001b[1;33m\u001b[0m\u001b[0m\n\u001b[0;32m      4\u001b[0m \u001b[1;32mfor\u001b[0m \u001b[0mnum\u001b[0m \u001b[1;32min\u001b[0m \u001b[0mrange\u001b[0m\u001b[1;33m(\u001b[0m\u001b[0mlen\u001b[0m\u001b[1;33m(\u001b[0m\u001b[0mdrugs\u001b[0m\u001b[1;33m)\u001b[0m\u001b[1;33m)\u001b[0m\u001b[1;33m:\u001b[0m\u001b[1;33m\u001b[0m\u001b[0m\n\u001b[1;32m----> 5\u001b[1;33m     \u001b[1;32mif\u001b[0m \u001b[0mdiseases\u001b[0m\u001b[1;33m[\u001b[0m\u001b[0mnum\u001b[0m\u001b[1;33m]\u001b[0m \u001b[1;33m==\u001b[0m \u001b[0mdiseases_no_repeat\u001b[0m\u001b[1;33m[\u001b[0m\u001b[1;33m-\u001b[0m\u001b[1;36m1\u001b[0m\u001b[1;33m]\u001b[0m\u001b[1;33m:\u001b[0m\u001b[1;33m\u001b[0m\u001b[0m\n\u001b[0m\u001b[0;32m      6\u001b[0m         \u001b[0mdivided_drugs\u001b[0m\u001b[1;33m[\u001b[0m\u001b[0mdisease_num\u001b[0m\u001b[1;33m]\u001b[0m\u001b[1;33m.\u001b[0m\u001b[0mappend\u001b[0m\u001b[1;33m(\u001b[0m\u001b[0mdrugs\u001b[0m\u001b[1;33m[\u001b[0m\u001b[0mnum\u001b[0m\u001b[1;33m]\u001b[0m\u001b[1;33m)\u001b[0m\u001b[1;33m\u001b[0m\u001b[0m\n\u001b[0;32m      7\u001b[0m     \u001b[1;32melse\u001b[0m\u001b[1;33m:\u001b[0m\u001b[1;33m\u001b[0m\u001b[0m\n",
      "\u001b[1;31mIndexError\u001b[0m: list index out of range"
     ]
    }
   ],
   "source": [
    "divided_drugs = []\n",
    "diseases_no_repeat = []\n",
    "disease_num = -1\n",
    "for num in range(len(drugs)):\n",
    "    if diseases[num] != diseases_no_repeat[-1]:\n",
    "        divided_drugs.append([])\n",
    "        disease_num = disease_num + 1\n",
    "        divided_drugs[disease_num].append(drugs[num])\n",
    "        diseases_no_repeat.append(diseases[num])\n",
    "        \n",
    "    else:\n",
    "        divided_drugs[disease_num].append(drugs[num])\n",
    "        \n",
    "print(divided_drugs)"
   ]
  },
  {
   "cell_type": "code",
   "execution_count": 8,
   "metadata": {},
   "outputs": [],
   "source": [
    "#删除C-code中的首尾节点\n",
    "for codes in code_splited:\n",
    "    codes.remove(codes[0])\n",
    "    codes.remove(codes[-1])"
   ]
  },
  {
   "cell_type": "code",
   "execution_count": 9,
   "metadata": {},
   "outputs": [
    {
     "name": "stdout",
     "output_type": "stream",
     "text": [
      "{'oleuropein': 'C0069413', 'cleavage': 'C1330957', 'prl': 'C0033371', 'angiogenesis': 'C0302600', 'inflammatory_disease': 'C1290884', 'oxidative_stress': 'C0242606', 'lipoxygenase': 'C0023837', 'glucose': 'C0017725', 'gipr': 'C0061126', 'receptor': 'C0597357', 'osteocalcin': 'C0029419', 'vitamin_d_receptor': 'C0108082', 'rheumatoid_arthriti': 'C0003873', 'quetiapine': 'C0123091', 'prefrontal_cortex': 'C0162783', 'extracellular_signal-regulated_kinase_2': 'C0170168', 'gene': 'C0017337', 'schizophrenia': 'C0036341'}\n"
     ]
    }
   ],
   "source": [
    "#合并每个map\n",
    "saved_data = list(chain(*saved_data))\n",
    "saved_code = list(chain(*saved_code))\n",
    "\n",
    "#删除关系词\n",
    "for i in saved_code:\n",
    "    if re.search('^[A-Z\\-_]*$',i):\n",
    "        saved_code.remove(i)\n",
    "\n",
    "#拼接成词典备用\n",
    "dic = dict(map(lambda x,y:[x,y],saved_data,saved_code))\n",
    "print(dic)"
   ]
  },
  {
   "cell_type": "code",
   "execution_count": 10,
   "metadata": {},
   "outputs": [
    {
     "name": "stdout",
     "output_type": "stream",
     "text": [
      "[[{'name': 'oleuropein', 'x': 100, 'y': 500, 'value': 'C0069413'}, {'name': 'inflammatory_disease', 'x': 1100, 'y': 500, 'value': 'C1290884'}, {'name': 'cleavage', 'x': 300, 'y': 100, 'value': 'C1330957'}, {'name': 'prl', 'x': 633, 'y': 100, 'value': 'C0033371'}, {'name': 'angiogenesis', 'x': 966, 'y': 100, 'value': 'C0302600'}, {'name': 'oxidative_stress', 'x': 300, 'y': 350, 'value': 'C0242606'}, {'name': 'lipoxygenase', 'x': 633, 'y': 350, 'value': 'C0023837'}, {'name': 'glucose', 'x': 300, 'y': 600, 'value': 'C0017725'}, {'name': 'gipr', 'x': 633, 'y': 600, 'value': 'C0061126'}, {'name': 'receptor', 'x': 966, 'y': 600, 'value': 'C0597357'}, {'name': 'osteocalcin', 'x': 300, 'y': 850, 'value': 'C0029419'}, {'name': 'vitamin_d_receptor', 'x': 633, 'y': 850, 'value': 'C0108082'}, {'name': 'rheumatoid_arthriti', 'x': 966, 'y': 850, 'value': 'C0003873'}], [{'name': 'quetiapine', 'x': 100, 'y': 500, 'value': 'C0123091'}, {'name': 'schizophrenia', 'x': 1100, 'y': 500, 'value': 'C0036341'}, {'name': 'prefrontal_cortex', 'x': 300, 'y': 100, 'value': 'C0162783'}, {'name': 'extracellular_signal-regulated_kinase_2', 'x': 633, 'y': 100, 'value': 'C0170168'}, {'name': 'gene', 'x': 966, 'y': 100, 'value': 'C0017337'}]]\n"
     ]
    }
   ],
   "source": [
    "data_dict = []\n",
    "data_node = []\n",
    "map_num = 0\n",
    "for maps in MAP_NO_REPEAT:\n",
    "    data_dict.append([])\n",
    "#头节点\n",
    "    new_dict = {}      \n",
    "    new_dict['name'] = drugs[map_num]\n",
    "    data_node.append(drugs[map_num])\n",
    "    new_dict['x'] = 100\n",
    "    new_dict['y'] = 500\n",
    "    new_dict['value'] = dic[drugs[map_num]]\n",
    "    data_dict[map_num].append(new_dict)\n",
    "#尾节点     \n",
    "    new_dict = {}      \n",
    "    new_dict['name'] = diseases[map_num]\n",
    "    data_node.append(diseases[map_num])\n",
    "    new_dict['x'] = 1100\n",
    "    new_dict['y'] = 500\n",
    "    new_dict['value'] = dic[diseases[map_num]]\n",
    "    data_dict[map_num].append(new_dict)\n",
    "\n",
    "    col_num = 0\n",
    "    for cols in maps:\n",
    "        word_num = 0\n",
    "\n",
    "        for words in cols:\n",
    "            \n",
    "            if words in data_node:\n",
    "                word_num = word_num + 1\n",
    "                continue\n",
    "            data_node.append(words)\n",
    "            #当前节点\n",
    "            new_dict = {}\n",
    "            new_dict['name'] = words\n",
    "            new_dict['x'] = int(word_num*1000/len(cols) + 300)\n",
    "            new_dict['y'] = int(col_num*1000/row[map_num] + 100)\n",
    "            new_dict['value'] = dic[words]\n",
    "            data_dict[map_num].append(new_dict)\n",
    "\n",
    "            word_num = word_num + 1\n",
    "        col_num = col_num + 1\n",
    "    map_num = map_num + 1\n",
    "print(data_dict)"
   ]
  },
  {
   "cell_type": "code",
   "execution_count": 11,
   "metadata": {},
   "outputs": [
    {
     "name": "stdout",
     "output_type": "stream",
     "text": [
      "['oleuropein', 'inflammatory_disease', 'cleavage', 'prl', 'angiogenesis', 'oxidative_stress', 'lipoxygenase', 'glucose', 'gipr', 'receptor', 'osteocalcin', 'vitamin_d_receptor', 'rheumatoid_arthriti', 'quetiapine', 'schizophrenia', 'prefrontal_cortex', 'extracellular_signal-regulated_kinase_2', 'gene']\n"
     ]
    }
   ],
   "source": [
    "print(data_node)"
   ]
  },
  {
   "cell_type": "code",
   "execution_count": 12,
   "metadata": {},
   "outputs": [
    {
     "name": "stdout",
     "output_type": "stream",
     "text": [
      "[['23053546'], ['#271987', '10788422', '19128569'], ['11275703', '10788422', '16043870'], ['9884333', '12023382', '17968334', '18819684', '24102428'], ['16236331', '20335636', '22214867'], ['15292654'], ['10733500', '19286633'], ['9884333', '12023382', '17968334', '18819684', '24102428'], ['19725535'], ['12676650'], ['8958204', '23851294'], ['12235264', '17488971', '21132095', '22542476', '22918742', '22034497'], ['15230995'], ['1353882', '1353882', '9438916', '11383910', '15659793', '19692484', '19492922'], ['11251690', '11306745', '11306745', '16151416', '16151416', '15798098', '22859341'], ['9561339', '10620073', '11741347', '15654511', '15086569', '22045980', '20688047', '24320959'], ['15507222'], ['22521590'], ['20956553'], ['1972735', '2888032', '8117757', '10335546', '12370818', '11930015', '12769629', '11673798', '11673798', '12030331', '16081509', '17668069', '16969366', '16730337', '16640117', '17464717', '15184100', '17106420', '16415041', '17014910', '17598910', '17851196', '21277191', '20514075', '21431547', '18833581', '20874815', '19370154', '19949721', '19118813', '21091867', '19367584', '18552348', '18552348', '19303839', '23143521', '22911901', '22161352', '22567321', '22309971', '22954356', '22920393', '22920393', '22446566', '23395714', '24043878', '23528911', '24098394', '24365204', '24876161', '24936775', '24926463']]\n"
     ]
    }
   ],
   "source": [
    "#读取文件，按顺序存储pmid\n",
    "\n",
    "pmid = []\n",
    "pmid_num = 0\n",
    "with open(fileName) as f:\n",
    "    line = f.readline()\n",
    "    while line:\n",
    "        if re.search(\"^C[0-9]+\\s[A-Z_\\-]+\\sC[0-9]+$\",line):\n",
    "            pmid.append([])\n",
    "            while True:\n",
    "                line = f.readline()\n",
    "                if line == '\\n':\n",
    "                    break\n",
    "                pmid[pmid_num].append(re.search(\"^[#]*[0-9]+\",line).group())\n",
    "            pmid_num = pmid_num + 1\n",
    "        line = f.readline()\n",
    "print(pmid)"
   ]
  },
  {
   "cell_type": "code",
   "execution_count": 13,
   "metadata": {},
   "outputs": [
    {
     "name": "stdout",
     "output_type": "stream",
     "text": [
      "{'value': ['23053546'], 'source': 'oleuropein', 'target': 'cleavage', 'label': {'normal': {'show': 'true', 'formatter': 'AUGMENTS'}}}\n",
      "{'value': ['#271987', '10788422', '19128569'], 'source': 'cleavage', 'target': 'prl', 'label': {'normal': {'show': 'true', 'formatter': 'PRODUCES'}}}\n",
      "{'value': ['11275703', '10788422', '16043870'], 'source': 'prl', 'target': 'angiogenesis', 'label': {'normal': {'show': 'true', 'formatter': 'DISRUPTS'}}}\n",
      "{'value': ['9884333', '12023382', '17968334', '18819684', '24102428'], 'source': 'angiogenesis', 'target': 'inflammatory_disease', 'label': {'normal': {'show': 'true', 'formatter': 'AFFECTS'}}}\n",
      "{'value': ['16236331', '20335636', '22214867'], 'source': 'oleuropein', 'target': 'oxidative_stress', 'label': {'normal': {'show': 'true', 'formatter': 'TREATS'}}}\n",
      "{'value': ['15292654'], 'source': 'oxidative_stress', 'target': 'lipoxygenase', 'label': {'normal': {'show': 'true', 'formatter': 'PRODUCES'}}}\n",
      "{'value': ['10733500', '19286633'], 'source': 'lipoxygenase', 'target': 'angiogenesis', 'label': {'normal': {'show': 'true', 'formatter': 'DISRUPTS'}}}\n",
      "{'value': ['9884333', '12023382', '17968334', '18819684', '24102428'], 'source': 'angiogenesis', 'target': 'inflammatory_disease', 'label': {'normal': {'show': 'true', 'formatter': 'AFFECTS'}}}\n",
      "{'value': ['19725535'], 'source': 'oleuropein', 'target': 'glucose', 'label': {'normal': {'show': 'true', 'formatter': 'INHIBITS'}}}\n",
      "{'value': ['12676650'], 'source': 'glucose', 'target': 'gipr', 'label': {'normal': {'show': 'true', 'formatter': 'COEXISTS_WITH'}}}\n",
      "{'value': ['8958204', '23851294'], 'source': 'gipr', 'target': 'receptor', 'label': {'normal': {'show': 'true', 'formatter': 'ISA'}}}\n",
      "{'value': ['12235264', '17488971', '21132095', '22542476', '22918742', '22034497'], 'source': 'receptor', 'target': 'inflammatory_disease', 'label': {'normal': {'show': 'true', 'formatter': 'AFFECTS'}}}\n",
      "{'value': ['15230995'], 'source': 'oleuropein', 'target': 'osteocalcin', 'label': {'normal': {'show': 'true', 'formatter': 'NEG_INTERACTS_WITH'}}}\n",
      "{'value': ['1353882', '1353882', '9438916', '11383910', '15659793', '19692484', '19492922'], 'source': 'osteocalcin', 'target': 'vitamin_d_receptor', 'label': {'normal': {'show': 'true', 'formatter': 'COEXISTS_WITH'}}}\n",
      "{'value': ['11251690', '11306745', '11306745', '16151416', '16151416', '15798098', '22859341'], 'source': 'vitamin_d_receptor', 'target': 'rheumatoid_arthriti', 'label': {'normal': {'show': 'true', 'formatter': 'ASSOCIATED_WITH'}}}\n",
      "{'value': ['9561339', '10620073', '11741347', '15654511', '15086569', '22045980', '20688047', '24320959'], 'source': 'rheumatoid_arthriti', 'target': 'inflammatory_disease', 'label': {'normal': {'show': 'true', 'formatter': 'AFFECTS'}}}\n",
      "{'value': ['15507222'], 'source': 'quetiapine', 'target': 'prefrontal_cortex', 'label': {'normal': {'show': 'true', 'formatter': 'AUGMENTS'}}}\n",
      "{'value': ['22521590'], 'source': 'prefrontal_cortex', 'target': 'extracellular_signal-regulated_kinase_2', 'label': {'normal': {'show': 'true', 'formatter': 'LOCATION_OF'}}}\n",
      "{'value': ['20956553'], 'source': 'extracellular_signal-regulated_kinase_2', 'target': 'gene', 'label': {'normal': {'show': 'true', 'formatter': 'INTERACTS_WITH'}}}\n",
      "{'value': ['1972735', '2888032', '8117757', '10335546', '12370818', '11930015', '12769629', '11673798', '11673798', '12030331', '16081509', '17668069', '16969366', '16730337', '16640117', '17464717', '15184100', '17106420', '16415041', '17014910', '17598910', '17851196', '21277191', '20514075', '21431547', '18833581', '20874815', '19370154', '19949721', '19118813', '21091867', '19367584', '18552348', '18552348', '19303839', '23143521', '22911901', '22161352', '22567321', '22309971', '22954356', '22920393', '22920393', '22446566', '23395714', '24043878', '23528911', '24098394', '24365204', '24876161', '24936775', '24926463'], 'source': 'gene', 'target': 'schizophrenia', 'label': {'normal': {'show': 'true', 'formatter': 'AFFECTS'}}}\n",
      "[[{'value': ['23053546'], 'source': 'oleuropein', 'target': 'cleavage', 'label': {'normal': {'show': 'true', 'formatter': 'AUGMENTS'}}}, {'value': ['#271987', '10788422', '19128569'], 'source': 'cleavage', 'target': 'prl', 'label': {'normal': {'show': 'true', 'formatter': 'PRODUCES'}}}, {'value': ['11275703', '10788422', '16043870'], 'source': 'prl', 'target': 'angiogenesis', 'label': {'normal': {'show': 'true', 'formatter': 'DISRUPTS'}}}, {'value': ['9884333', '12023382', '17968334', '18819684', '24102428'], 'source': 'angiogenesis', 'target': 'inflammatory_disease', 'label': {'normal': {'show': 'true', 'formatter': 'AFFECTS'}}}, {'value': ['16236331', '20335636', '22214867'], 'source': 'oleuropein', 'target': 'oxidative_stress', 'label': {'normal': {'show': 'true', 'formatter': 'TREATS'}}}, {'value': ['15292654'], 'source': 'oxidative_stress', 'target': 'lipoxygenase', 'label': {'normal': {'show': 'true', 'formatter': 'PRODUCES'}}}, {'value': ['10733500', '19286633'], 'source': 'lipoxygenase', 'target': 'angiogenesis', 'label': {'normal': {'show': 'true', 'formatter': 'DISRUPTS'}}}, {'value': ['9884333', '12023382', '17968334', '18819684', '24102428'], 'source': 'angiogenesis', 'target': 'inflammatory_disease', 'label': {'normal': {'show': 'true', 'formatter': 'AFFECTS'}}}, {'value': ['19725535'], 'source': 'oleuropein', 'target': 'glucose', 'label': {'normal': {'show': 'true', 'formatter': 'INHIBITS'}}}, {'value': ['12676650'], 'source': 'glucose', 'target': 'gipr', 'label': {'normal': {'show': 'true', 'formatter': 'COEXISTS_WITH'}}}, {'value': ['8958204', '23851294'], 'source': 'gipr', 'target': 'receptor', 'label': {'normal': {'show': 'true', 'formatter': 'ISA'}}}, {'value': ['12235264', '17488971', '21132095', '22542476', '22918742', '22034497'], 'source': 'receptor', 'target': 'inflammatory_disease', 'label': {'normal': {'show': 'true', 'formatter': 'AFFECTS'}}}, {'value': ['15230995'], 'source': 'oleuropein', 'target': 'osteocalcin', 'label': {'normal': {'show': 'true', 'formatter': 'NEG_INTERACTS_WITH'}}}, {'value': ['1353882', '1353882', '9438916', '11383910', '15659793', '19692484', '19492922'], 'source': 'osteocalcin', 'target': 'vitamin_d_receptor', 'label': {'normal': {'show': 'true', 'formatter': 'COEXISTS_WITH'}}}, {'value': ['11251690', '11306745', '11306745', '16151416', '16151416', '15798098', '22859341'], 'source': 'vitamin_d_receptor', 'target': 'rheumatoid_arthriti', 'label': {'normal': {'show': 'true', 'formatter': 'ASSOCIATED_WITH'}}}, {'value': ['9561339', '10620073', '11741347', '15654511', '15086569', '22045980', '20688047', '24320959'], 'source': 'rheumatoid_arthriti', 'target': 'inflammatory_disease', 'label': {'normal': {'show': 'true', 'formatter': 'AFFECTS'}}}], [{'value': ['15507222'], 'source': 'quetiapine', 'target': 'prefrontal_cortex', 'label': {'normal': {'show': 'true', 'formatter': 'AUGMENTS'}}}, {'value': ['22521590'], 'source': 'prefrontal_cortex', 'target': 'extracellular_signal-regulated_kinase_2', 'label': {'normal': {'show': 'true', 'formatter': 'LOCATION_OF'}}}, {'value': ['20956553'], 'source': 'extracellular_signal-regulated_kinase_2', 'target': 'gene', 'label': {'normal': {'show': 'true', 'formatter': 'INTERACTS_WITH'}}}, {'value': ['1972735', '2888032', '8117757', '10335546', '12370818', '11930015', '12769629', '11673798', '11673798', '12030331', '16081509', '17668069', '16969366', '16730337', '16640117', '17464717', '15184100', '17106420', '16415041', '17014910', '17598910', '17851196', '21277191', '20514075', '21431547', '18833581', '20874815', '19370154', '19949721', '19118813', '21091867', '19367584', '18552348', '18552348', '19303839', '23143521', '22911901', '22161352', '22567321', '22309971', '22954356', '22920393', '22920393', '22446566', '23395714', '24043878', '23528911', '24098394', '24365204', '24876161', '24936775', '24926463'], 'source': 'gene', 'target': 'schizophrenia', 'label': {'normal': {'show': 'true', 'formatter': 'AFFECTS'}}}]]\n"
     ]
    }
   ],
   "source": [
    "#遍历完整data，同时遍历pmid，写link\n",
    "link_dict = []\n",
    "\n",
    "pmid_num = 0\n",
    "map_num = 0\n",
    "for maps in complete_data:\n",
    "        link_dict.append([])\n",
    "        for nodes in maps:\n",
    "           #每次跳两步，只读实体，跳过关系和概率\n",
    "            for i in range(0, len(nodes) - 1, 2):\n",
    "                if i > len(nodes) - 4:\n",
    "                    break\n",
    "                #当前节点\n",
    "                new_dict = {}\n",
    "                new_dict['value'] = pmid[pmid_num]\n",
    "                new_dict['source'] = nodes[i]\n",
    "                new_dict['target'] = nodes[i + 2]\n",
    "                label = {}\n",
    "                normal = {}\n",
    "                normal['show'] = 'true'\n",
    "                normal['formatter'] = nodes[i + 1]\n",
    "                new_dict['label'] = label\n",
    "                label['normal'] = normal\n",
    "                link_dict[map_num].append(new_dict)\n",
    "                print(new_dict)\n",
    "                pmid_num = pmid_num + 1       \n",
    "        map_num = map_num + 1\n",
    "print(link_dict)"
   ]
  },
  {
   "cell_type": "code",
   "execution_count": 14,
   "metadata": {},
   "outputs": [],
   "source": [
    "import json\n",
    "with open(\"./data.json\",'w',encoding='utf-8') as json_file:\n",
    "        json.dump(data_dict,json_file,ensure_ascii=False)\n",
    "with open(\"./link.json\",'w',encoding='utf-8') as json_file:\n",
    "        json.dump(link_dict,json_file,ensure_ascii=False)"
   ]
  },
  {
   "cell_type": "code",
   "execution_count": 16,
   "metadata": {},
   "outputs": [
    {
     "name": "stdout",
     "output_type": "stream",
     "text": [
      "['inflammatory_disease', 'schizophrenia']\n"
     ]
    }
   ],
   "source": [
    "with open(\"./drugs.json\",'w',encoding='utf-8') as json_file:\n",
    "        json.dump(data_dict,json_file,ensure_ascii=False)\n",
    "with open(\"./diseases.json\",'w',encoding='utf-8') as json_file:\n",
    "        json.dump(link_dict,json_file,ensure_ascii=False)"
   ]
  },
  {
   "cell_type": "code",
   "execution_count": null,
   "metadata": {},
   "outputs": [],
   "source": []
  }
 ],
 "metadata": {
  "kernelspec": {
   "display_name": "Python 3",
   "language": "python",
   "name": "python3"
  },
  "language_info": {
   "codemirror_mode": {
    "name": "ipython",
    "version": 3
   },
   "file_extension": ".py",
   "mimetype": "text/x-python",
   "name": "python",
   "nbconvert_exporter": "python",
   "pygments_lexer": "ipython3",
   "version": "3.6.3"
  }
 },
 "nbformat": 4,
 "nbformat_minor": 2
}
